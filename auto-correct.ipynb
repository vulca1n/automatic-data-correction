{
 "cells": [
  {
   "cell_type": "code",
   "execution_count": 1,
   "id": "1e3291b0",
   "metadata": {
    "ExecuteTime": {
     "end_time": "2022-07-19T09:45:32.335162Z",
     "start_time": "2022-07-19T09:45:32.052958Z"
    }
   },
   "outputs": [],
   "source": [
    "import re\n",
    "import string\n",
    "from collections import Counter\n",
    "import numpy as np\n",
    "import pandas as pd"
   ]
  },
  {
   "cell_type": "code",
   "execution_count": 2,
   "id": "bb9f9355",
   "metadata": {
    "ExecuteTime": {
     "end_time": "2022-07-01T11:40:42.418716Z",
     "start_time": "2022-07-01T11:40:42.409739Z"
    }
   },
   "outputs": [
    {
     "name": "stdout",
     "output_type": "stream",
     "text": [
      "dict_values([['meter', 'metre'], ['gram', 'gramme'], ['littre', 'litre'], ['km', 'kilometre'], ['kg', 'kilogramme'], ['T', 'tonne'], ['dhs', 'dirhams'], ['miliard', 'milliard'], ['cm', 'centimetre']])\n"
     ]
    }
   ],
   "source": [
    "vocabs = {\"metre\":[\"meter\",\"metre\"],\"gramme\":[\"gram\",\"gramme\"],\"litre\":[\"littre\",\"litre\"],\"kilometre\":[\"km\",\"kilometre\"],\"kilogramme\":[\"kg\",\"kilogramme\"],\"tonne\":[\"T\",\"tonne\"],\"dirhams\":[\"dhs\",\"dirhams\"],\"milliard\":[\"miliard\",\"milliard\"],\"centimetre\":[\"cm\",\"centimetre\"]}\n",
    "\n",
    "\n",
    "print (vocabs.values())"
   ]
  },
  {
   "cell_type": "code",
   "execution_count": 2,
   "id": "f82cea95",
   "metadata": {
    "ExecuteTime": {
     "end_time": "2022-07-19T09:45:38.907469Z",
     "start_time": "2022-07-19T09:45:38.892509Z"
    }
   },
   "outputs": [],
   "source": [
    "#text = ' '.join([word for word in tokens])"
   ]
  },
  {
   "cell_type": "code",
   "execution_count": 3,
   "id": "ddfa7af3",
   "metadata": {
    "ExecuteTime": {
     "end_time": "2022-07-19T09:45:39.463847Z",
     "start_time": "2022-07-19T09:45:39.447889Z"
    }
   },
   "outputs": [],
   "source": [
    "def split(word):\n",
    "  return [(word[:i], word[i:]) for i in range(len(word) + 1)]"
   ]
  },
  {
   "cell_type": "code",
   "execution_count": 4,
   "id": "f84089db",
   "metadata": {
    "ExecuteTime": {
     "end_time": "2022-07-19T09:45:39.927873Z",
     "start_time": "2022-07-19T09:45:39.919895Z"
    }
   },
   "outputs": [],
   "source": [
    "def delete(word):\n",
    "  return [l + r[1:] for l,r in split(word) if r]"
   ]
  },
  {
   "cell_type": "code",
   "execution_count": 5,
   "id": "5c814693",
   "metadata": {
    "ExecuteTime": {
     "end_time": "2022-07-19T09:45:40.470692Z",
     "start_time": "2022-07-19T09:45:40.448699Z"
    }
   },
   "outputs": [],
   "source": [
    "def swap(word):\n",
    "  return [l + r[1] + r[0] + r[2:] for l, r in split(word) if len(r)>1]"
   ]
  },
  {
   "cell_type": "code",
   "execution_count": 6,
   "id": "cc7ac5e3",
   "metadata": {
    "ExecuteTime": {
     "end_time": "2022-07-19T09:45:41.026893Z",
     "start_time": "2022-07-19T09:45:41.007941Z"
    }
   },
   "outputs": [],
   "source": [
    "def replace(word):\n",
    "  characters = 'ABCDEFGHIJKLMNOPQRSTUVWXYZabcdefghijklmnopqrstuvwxyz1234567890£µ%§/.?<*$ù!:;,=)+&é-è_çà^>'\n",
    "  return [l + c + r[1:] for l, r in split(word) if r for c in characters]"
   ]
  },
  {
   "cell_type": "code",
   "execution_count": 7,
   "id": "27c5d3a5",
   "metadata": {
    "ExecuteTime": {
     "end_time": "2022-07-19T09:45:41.880105Z",
     "start_time": "2022-07-19T09:45:41.863149Z"
    }
   },
   "outputs": [],
   "source": [
    "def insert(word):\n",
    "  characters = 'ABCDEFGHIJKLMNOPQRSTUVWXYZabcdefghijklmnopqrstuvwxyz1234567890£µ%§/.?<*$ù!:;,=)+&é-è_çà^>'\n",
    "  return [l + c + r for l, r in split(word) for c in characters]"
   ]
  },
  {
   "cell_type": "code",
   "execution_count": 8,
   "id": "dbd6fce3",
   "metadata": {
    "ExecuteTime": {
     "end_time": "2022-07-19T09:45:42.562094Z",
     "start_time": "2022-07-19T09:45:42.543146Z"
    }
   },
   "outputs": [],
   "source": [
    "def edit1(word):\n",
    "  return set(delete(word) + swap(word) + replace(word) + insert(word))"
   ]
  },
  {
   "cell_type": "code",
   "execution_count": 9,
   "id": "5e25ed4b",
   "metadata": {
    "ExecuteTime": {
     "end_time": "2022-07-19T09:45:43.122300Z",
     "start_time": "2022-07-19T09:45:43.115314Z"
    }
   },
   "outputs": [],
   "source": [
    "def edit2(word):\n",
    "  return set(e2 for e1 in edit1(word) for e2 in edit1(e1))"
   ]
  },
  {
   "cell_type": "markdown",
   "id": "d8a907d1",
   "metadata": {
    "ExecuteTime": {
     "end_time": "2022-06-30T11:32:16.589482Z",
     "start_time": "2022-06-30T11:32:16.576001Z"
    }
   },
   "source": [
    "def get_key(val):\n",
    "    for key, value in my_dict.items():\n",
    "         if val == value:\n",
    "             return key\n",
    " \n",
    "    return \"key doesn't exist\""
   ]
  },
  {
   "cell_type": "code",
   "execution_count": 10,
   "id": "25a48851",
   "metadata": {
    "ExecuteTime": {
     "end_time": "2022-07-19T09:45:46.510226Z",
     "start_time": "2022-07-19T09:45:46.499266Z"
    }
   },
   "outputs": [],
   "source": [
    "def find_key(word):\n",
    "    for key in vocabs.keys():\n",
    "         if word in vocabs[key]:\n",
    "             return key\n",
    "    return"
   ]
  },
  {
   "cell_type": "code",
   "execution_count": 11,
   "id": "ffaf9e6d",
   "metadata": {
    "ExecuteTime": {
     "end_time": "2022-07-19T09:45:47.749163Z",
     "start_time": "2022-07-19T09:45:47.734171Z"
    }
   },
   "outputs": [],
   "source": [
    "def correct_spelling(word,diction):\n",
    "    if find_key(word)!=None:\n",
    "        return find_key(word)\n",
    "    else:\n",
    "        suggestions = set().union(edit1(word)).union(edit2(word)) or  [word]\n",
    "        best_guesses=[]\n",
    "        for key in voca.keys():\n",
    "            for w in suggestions:\n",
    "                if w in voca[key]:\n",
    "                    s =key\n",
    "                    best_guesses.append(w)\n",
    "        voca[s].append(word)\n",
    "        return s"
   ]
  },
  {
   "cell_type": "markdown",
   "id": "354c81ed",
   "metadata": {
    "ExecuteTime": {
     "end_time": "2022-06-29T23:14:08.237660Z",
     "start_time": "2022-06-29T23:14:08.218709Z"
    }
   },
   "source": [
    "def correct_spelling(word):\n",
    "  vocabulary =vocabs\n",
    "  for key, value in vocabs.items():\n",
    "         if word in value:\n",
    "             return key\n",
    "        suggestions = set().union(edit1(word)).union(edit2(word)) or  [word]\n",
    "        best_guesses = [w for w in suggestions if w in vocabulary]\n",
    "  return [w for w in best_guesses]"
   ]
  },
  {
   "cell_type": "code",
   "execution_count": 109,
   "id": "5f0ed7cb",
   "metadata": {
    "ExecuteTime": {
     "end_time": "2022-06-29T23:48:40.287049Z",
     "start_time": "2022-06-29T23:48:40.281064Z"
    }
   },
   "outputs": [
    {
     "name": "stdout",
     "output_type": "stream",
     "text": [
      "the suggesteed corrections are:\n",
      "\n",
      "gramme\n",
      "dict_items([('metre', ['meter', 'metre', 'meters']), ('gramme', ['gram', 'gramme', 'grammme']), ('litre', ['littre', 'litre']), ('kilometre', ['km', 'kilometre']), ('kilogramme', ['kg', 'kilogramme']), ('tonne', ['T', 'tonne']), ('dirhams', ['dhs', 'dirhams']), ('milliard', ['miliard', 'milliard']), ('centimetre', ['cm', 'centimetre'])])\n"
     ]
    }
   ],
   "source": [
    "word = \"grammme\"\n",
    "corrections = correct_spelling(word)\n",
    "\n",
    "if corrections:\n",
    "    print (\"the suggesteed corrections are:\\n\")\n",
    "    print (corrections)\n",
    "print(vocabs.items())"
   ]
  },
  {
   "cell_type": "code",
   "execution_count": 105,
   "id": "809ff79a",
   "metadata": {
    "ExecuteTime": {
     "end_time": "2022-06-29T23:48:15.818936Z",
     "start_time": "2022-06-29T23:48:15.809941Z"
    }
   },
   "outputs": [],
   "source": [
    "word ='dirhamms'\n",
    "find_key(word)"
   ]
  },
  {
   "cell_type": "code",
   "execution_count": 106,
   "id": "ad3b6afa",
   "metadata": {
    "ExecuteTime": {
     "end_time": "2022-06-29T23:48:17.426537Z",
     "start_time": "2022-06-29T23:48:17.419815Z"
    }
   },
   "outputs": [
    {
     "name": "stdout",
     "output_type": "stream",
     "text": [
      "dict_items([('metre', ['meter', 'metre', 'meters']), ('gramme', ['gram', 'gramme']), ('litre', ['littre', 'litre']), ('kilometre', ['km', 'kilometre']), ('kilogramme', ['kg', 'kilogramme']), ('tonne', ['T', 'tonne']), ('dirhams', ['dhs', 'dirhams']), ('milliard', ['miliard', 'milliard']), ('centimetre', ['cm', 'centimetre'])])\n"
     ]
    }
   ],
   "source": [
    "print (vocabs.items())"
   ]
  },
  {
   "cell_type": "code",
   "execution_count": 110,
   "id": "0a8b988c",
   "metadata": {
    "ExecuteTime": {
     "end_time": "2022-06-29T23:48:51.739777Z",
     "start_time": "2022-06-29T23:48:51.720828Z"
    }
   },
   "outputs": [],
   "source": [
    "data=pd.read_excel('dummy_data.xlsx')"
   ]
  },
  {
   "cell_type": "code",
   "execution_count": 111,
   "id": "e418bcb5",
   "metadata": {
    "ExecuteTime": {
     "end_time": "2022-06-29T23:48:53.723476Z",
     "start_time": "2022-06-29T23:48:53.700536Z"
    }
   },
   "outputs": [
    {
     "data": {
      "text/html": [
       "<div>\n",
       "<style scoped>\n",
       "    .dataframe tbody tr th:only-of-type {\n",
       "        vertical-align: middle;\n",
       "    }\n",
       "\n",
       "    .dataframe tbody tr th {\n",
       "        vertical-align: top;\n",
       "    }\n",
       "\n",
       "    .dataframe thead th {\n",
       "        text-align: right;\n",
       "    }\n",
       "</style>\n",
       "<table border=\"1\" class=\"dataframe\">\n",
       "  <thead>\n",
       "    <tr style=\"text-align: right;\">\n",
       "      <th></th>\n",
       "      <th>words</th>\n",
       "    </tr>\n",
       "  </thead>\n",
       "  <tbody>\n",
       "    <tr>\n",
       "      <th>0</th>\n",
       "      <td>tonnes</td>\n",
       "    </tr>\n",
       "    <tr>\n",
       "      <th>1</th>\n",
       "      <td>tone</td>\n",
       "    </tr>\n",
       "    <tr>\n",
       "      <th>2</th>\n",
       "      <td>Tonne</td>\n",
       "    </tr>\n",
       "    <tr>\n",
       "      <th>3</th>\n",
       "      <td>littre</td>\n",
       "    </tr>\n",
       "    <tr>\n",
       "      <th>4</th>\n",
       "      <td>litre</td>\n",
       "    </tr>\n",
       "    <tr>\n",
       "      <th>5</th>\n",
       "      <td>litres</td>\n",
       "    </tr>\n",
       "    <tr>\n",
       "      <th>6</th>\n",
       "      <td>Litre</td>\n",
       "    </tr>\n",
       "    <tr>\n",
       "      <th>7</th>\n",
       "      <td>grammes</td>\n",
       "    </tr>\n",
       "    <tr>\n",
       "      <th>8</th>\n",
       "      <td>grame</td>\n",
       "    </tr>\n",
       "    <tr>\n",
       "      <th>9</th>\n",
       "      <td>Gramme</td>\n",
       "    </tr>\n",
       "    <tr>\n",
       "      <th>10</th>\n",
       "      <td>meter</td>\n",
       "    </tr>\n",
       "    <tr>\n",
       "      <th>11</th>\n",
       "      <td>mettre</td>\n",
       "    </tr>\n",
       "    <tr>\n",
       "      <th>12</th>\n",
       "      <td>Metre</td>\n",
       "    </tr>\n",
       "    <tr>\n",
       "      <th>13</th>\n",
       "      <td>metre</td>\n",
       "    </tr>\n",
       "    <tr>\n",
       "      <th>14</th>\n",
       "      <td>dirhame</td>\n",
       "    </tr>\n",
       "    <tr>\n",
       "      <th>15</th>\n",
       "      <td>dirhams</td>\n",
       "    </tr>\n",
       "    <tr>\n",
       "      <th>16</th>\n",
       "      <td>dirham</td>\n",
       "    </tr>\n",
       "  </tbody>\n",
       "</table>\n",
       "</div>"
      ],
      "text/plain": [
       "      words\n",
       "0    tonnes\n",
       "1      tone\n",
       "2     Tonne\n",
       "3    littre\n",
       "4     litre\n",
       "5    litres\n",
       "6     Litre\n",
       "7   grammes\n",
       "8     grame\n",
       "9    Gramme\n",
       "10    meter\n",
       "11   mettre\n",
       "12    Metre\n",
       "13    metre\n",
       "14  dirhame\n",
       "15  dirhams\n",
       "16   dirham"
      ]
     },
     "execution_count": 111,
     "metadata": {},
     "output_type": "execute_result"
    }
   ],
   "source": [
    "data"
   ]
  },
  {
   "cell_type": "code",
   "execution_count": 112,
   "id": "c62a9804",
   "metadata": {
    "ExecuteTime": {
     "end_time": "2022-06-29T23:49:16.114689Z",
     "start_time": "2022-06-29T23:48:56.808225Z"
    }
   },
   "outputs": [],
   "source": [
    "data['corrected words']= data['words'].apply(correct_spelling)"
   ]
  },
  {
   "cell_type": "code",
   "execution_count": 113,
   "id": "bd532b5d",
   "metadata": {
    "ExecuteTime": {
     "end_time": "2022-06-29T23:49:20.194025Z",
     "start_time": "2022-06-29T23:49:20.174098Z"
    }
   },
   "outputs": [
    {
     "data": {
      "text/html": [
       "<div>\n",
       "<style scoped>\n",
       "    .dataframe tbody tr th:only-of-type {\n",
       "        vertical-align: middle;\n",
       "    }\n",
       "\n",
       "    .dataframe tbody tr th {\n",
       "        vertical-align: top;\n",
       "    }\n",
       "\n",
       "    .dataframe thead th {\n",
       "        text-align: right;\n",
       "    }\n",
       "</style>\n",
       "<table border=\"1\" class=\"dataframe\">\n",
       "  <thead>\n",
       "    <tr style=\"text-align: right;\">\n",
       "      <th></th>\n",
       "      <th>words</th>\n",
       "      <th>corrected words</th>\n",
       "    </tr>\n",
       "  </thead>\n",
       "  <tbody>\n",
       "    <tr>\n",
       "      <th>0</th>\n",
       "      <td>tonnes</td>\n",
       "      <td>tonne</td>\n",
       "    </tr>\n",
       "    <tr>\n",
       "      <th>1</th>\n",
       "      <td>tone</td>\n",
       "      <td>tonne</td>\n",
       "    </tr>\n",
       "    <tr>\n",
       "      <th>2</th>\n",
       "      <td>Tonne</td>\n",
       "      <td>tonne</td>\n",
       "    </tr>\n",
       "    <tr>\n",
       "      <th>3</th>\n",
       "      <td>littre</td>\n",
       "      <td>litre</td>\n",
       "    </tr>\n",
       "    <tr>\n",
       "      <th>4</th>\n",
       "      <td>litre</td>\n",
       "      <td>litre</td>\n",
       "    </tr>\n",
       "    <tr>\n",
       "      <th>5</th>\n",
       "      <td>litres</td>\n",
       "      <td>litre</td>\n",
       "    </tr>\n",
       "    <tr>\n",
       "      <th>6</th>\n",
       "      <td>Litre</td>\n",
       "      <td>litre</td>\n",
       "    </tr>\n",
       "    <tr>\n",
       "      <th>7</th>\n",
       "      <td>grammes</td>\n",
       "      <td>gramme</td>\n",
       "    </tr>\n",
       "    <tr>\n",
       "      <th>8</th>\n",
       "      <td>grame</td>\n",
       "      <td>gramme</td>\n",
       "    </tr>\n",
       "    <tr>\n",
       "      <th>9</th>\n",
       "      <td>Gramme</td>\n",
       "      <td>gramme</td>\n",
       "    </tr>\n",
       "    <tr>\n",
       "      <th>10</th>\n",
       "      <td>meter</td>\n",
       "      <td>metre</td>\n",
       "    </tr>\n",
       "    <tr>\n",
       "      <th>11</th>\n",
       "      <td>mettre</td>\n",
       "      <td>litre</td>\n",
       "    </tr>\n",
       "    <tr>\n",
       "      <th>12</th>\n",
       "      <td>Metre</td>\n",
       "      <td>litre</td>\n",
       "    </tr>\n",
       "    <tr>\n",
       "      <th>13</th>\n",
       "      <td>metre</td>\n",
       "      <td>metre</td>\n",
       "    </tr>\n",
       "    <tr>\n",
       "      <th>14</th>\n",
       "      <td>dirhame</td>\n",
       "      <td>dirhams</td>\n",
       "    </tr>\n",
       "    <tr>\n",
       "      <th>15</th>\n",
       "      <td>dirhams</td>\n",
       "      <td>dirhams</td>\n",
       "    </tr>\n",
       "    <tr>\n",
       "      <th>16</th>\n",
       "      <td>dirham</td>\n",
       "      <td>dirhams</td>\n",
       "    </tr>\n",
       "  </tbody>\n",
       "</table>\n",
       "</div>"
      ],
      "text/plain": [
       "      words corrected words\n",
       "0    tonnes           tonne\n",
       "1      tone           tonne\n",
       "2     Tonne           tonne\n",
       "3    littre           litre\n",
       "4     litre           litre\n",
       "5    litres           litre\n",
       "6     Litre           litre\n",
       "7   grammes          gramme\n",
       "8     grame          gramme\n",
       "9    Gramme          gramme\n",
       "10    meter           metre\n",
       "11   mettre           litre\n",
       "12    Metre           litre\n",
       "13    metre           metre\n",
       "14  dirhame         dirhams\n",
       "15  dirhams         dirhams\n",
       "16   dirham         dirhams"
      ]
     },
     "execution_count": 113,
     "metadata": {},
     "output_type": "execute_result"
    }
   ],
   "source": [
    "data"
   ]
  },
  {
   "cell_type": "code",
   "execution_count": 12,
   "id": "766c6df7",
   "metadata": {
    "ExecuteTime": {
     "end_time": "2022-07-01T11:41:03.661171Z",
     "start_time": "2022-07-01T11:41:03.648181Z"
    }
   },
   "outputs": [
    {
     "data": {
      "text/plain": [
       "dict_items([('metre', ['meter', 'metre']), ('gramme', ['gram', 'gramme']), ('litre', ['littre', 'litre']), ('kilometre', ['km', 'kilometre']), ('kilogramme', ['kg', 'kilogramme']), ('tonne', ['T', 'tonne']), ('dirhams', ['dhs', 'dirhams']), ('milliard', ['miliard', 'milliard']), ('centimetre', ['cm', 'centimetre'])])"
      ]
     },
     "execution_count": 12,
     "metadata": {},
     "output_type": "execute_result"
    }
   ],
   "source": [
    "vocabs.items()"
   ]
  },
  {
   "cell_type": "code",
   "execution_count": 12,
   "id": "4f2da0bb",
   "metadata": {
    "ExecuteTime": {
     "end_time": "2022-07-19T09:46:51.586994Z",
     "start_time": "2022-07-19T09:46:51.576021Z"
    }
   },
   "outputs": [],
   "source": [
    "def save_dict_to_file(dic,name):\n",
    "    f = open(name+'.txt','w')\n",
    "    f.write(str(dic))\n",
    "    f.close()\n",
    "\n",
    "def load_dict_from_file(file):\n",
    "    f = open(file,'r')\n",
    "    data=f.read()\n",
    "    f.close()\n",
    "    return eval(data)"
   ]
  },
  {
   "cell_type": "code",
   "execution_count": 14,
   "id": "dcb44a9a",
   "metadata": {
    "ExecuteTime": {
     "end_time": "2022-07-01T11:41:06.675268Z",
     "start_time": "2022-07-01T11:41:06.667290Z"
    }
   },
   "outputs": [
    {
     "data": {
      "text/plain": [
       "{'metre': ['meter', 'metre'],\n",
       " 'gramme': ['gram', 'gramme'],\n",
       " 'litre': ['littre', 'litre'],\n",
       " 'kilometre': ['km', 'kilometre'],\n",
       " 'kilogramme': ['kg', 'kilogramme'],\n",
       " 'tonne': ['T', 'tonne'],\n",
       " 'dirhams': ['dhs', 'dirhams'],\n",
       " 'milliard': ['miliard', 'milliard'],\n",
       " 'centimetre': ['cm', 'centimetre']}"
      ]
     },
     "execution_count": 14,
     "metadata": {},
     "output_type": "execute_result"
    }
   ],
   "source": [
    "save_dict_to_file(vocabs)\n",
    "voc = load_dict_from_file('dict.txt')\n",
    "voc"
   ]
  },
  {
   "cell_type": "code",
   "execution_count": 21,
   "id": "a13902ce",
   "metadata": {
    "ExecuteTime": {
     "end_time": "2022-07-01T11:51:11.441335Z",
     "start_time": "2022-07-01T11:50:36.625967Z"
    }
   },
   "outputs": [
    {
     "name": "stdout",
     "output_type": "stream",
     "text": [
      "select your data file: dummy_data.xlsx\n",
      "select the column that needs correction: unités\n",
      "select your dictionary file: dict.txt\n"
     ]
    }
   ],
   "source": [
    "dats=str(input('select your data file: '))\n",
    "df=pd.read_excel(dats)\n",
    "col=str(input('select the column that needs correction: '))\n",
    "dictio=str(input('select your dictionary file: '))\n",
    "voca = load_dict_from_file(dictio)\n",
    "corrected = 'corrected'+col\n",
    "df[corrected]= df[col].apply(correct_spelling)\n",
    "save_dict_to_file(voca,'dictionnaireUNITE')"
   ]
  },
  {
   "cell_type": "code",
   "execution_count": 24,
   "id": "9ad2b60b",
   "metadata": {
    "ExecuteTime": {
     "end_time": "2022-07-01T23:20:45.614147Z",
     "start_time": "2022-07-01T23:20:45.565275Z"
    }
   },
   "outputs": [],
   "source": [
    "df.to_excel('output.xlsx')"
   ]
  },
  {
   "cell_type": "code",
   "execution_count": 17,
   "id": "c78563d6",
   "metadata": {
    "ExecuteTime": {
     "end_time": "2022-07-01T11:42:37.780325Z",
     "start_time": "2022-07-01T11:42:37.767385Z"
    }
   },
   "outputs": [
    {
     "data": {
      "text/plain": [
       "dict_items([('metre', ['meter', 'metre']), ('gramme', ['gram', 'gramme']), ('litre', ['littre', 'litre']), ('kilometre', ['km', 'kilometre']), ('kilogramme', ['kg', 'kilogramme']), ('tonne', ['T', 'tonne']), ('dirhams', ['dhs', 'dirhams']), ('milliard', ['miliard', 'milliard']), ('centimetre', ['cm', 'centimetre'])])"
      ]
     },
     "execution_count": 17,
     "metadata": {},
     "output_type": "execute_result"
    }
   ],
   "source": [
    "voca.items()"
   ]
  },
  {
   "cell_type": "code",
   "execution_count": 18,
   "id": "362d85ff",
   "metadata": {
    "ExecuteTime": {
     "end_time": "2022-07-01T11:43:31.409639Z",
     "start_time": "2022-07-01T11:43:31.397607Z"
    }
   },
   "outputs": [
    {
     "data": {
      "text/plain": [
       "dict_items([('metre', ['meter', 'metre']), ('gramme', ['gram', 'gramme', 'grammes', 'grame', 'Gramme']), ('litre', ['littre', 'litre', 'litres', 'Litre', 'mettre', 'Metre']), ('kilometre', ['km', 'kilometre']), ('kilogramme', ['kg', 'kilogramme']), ('tonne', ['T', 'tonne', 'tonnes', 'tone', 'Tonne']), ('dirhams', ['dhs', 'dirhams', 'dirhame', 'dirham']), ('milliard', ['miliard', 'milliard']), ('centimetre', ['cm', 'centimetre'])])"
      ]
     },
     "execution_count": 18,
     "metadata": {},
     "output_type": "execute_result"
    }
   ],
   "source": [
    "vocabs.items()"
   ]
  },
  {
   "cell_type": "code",
   "execution_count": null,
   "id": "6fdaea89",
   "metadata": {},
   "outputs": [],
   "source": []
  }
 ],
 "metadata": {
  "kernelspec": {
   "display_name": "Python 3 (ipykernel)",
   "language": "python",
   "name": "python3"
  },
  "language_info": {
   "codemirror_mode": {
    "name": "ipython",
    "version": 3
   },
   "file_extension": ".py",
   "mimetype": "text/x-python",
   "name": "python",
   "nbconvert_exporter": "python",
   "pygments_lexer": "ipython3",
   "version": "3.7.13"
  },
  "latex_envs": {
   "LaTeX_envs_menu_present": true,
   "autoclose": false,
   "autocomplete": true,
   "bibliofile": "biblio.bib",
   "cite_by": "apalike",
   "current_citInitial": 1,
   "eqLabelWithNumbers": true,
   "eqNumInitial": 1,
   "hotkeys": {
    "equation": "Ctrl-E",
    "itemize": "Ctrl-I"
   },
   "labels_anchors": false,
   "latex_user_defs": false,
   "report_style_numbering": false,
   "user_envs_cfg": false
  },
  "varInspector": {
   "cols": {
    "lenName": 16,
    "lenType": 16,
    "lenVar": 40
   },
   "kernels_config": {
    "python": {
     "delete_cmd_postfix": "",
     "delete_cmd_prefix": "del ",
     "library": "var_list.py",
     "varRefreshCmd": "print(var_dic_list())"
    },
    "r": {
     "delete_cmd_postfix": ") ",
     "delete_cmd_prefix": "rm(",
     "library": "var_list.r",
     "varRefreshCmd": "cat(var_dic_list()) "
    }
   },
   "types_to_exclude": [
    "module",
    "function",
    "builtin_function_or_method",
    "instance",
    "_Feature"
   ],
   "window_display": false
  }
 },
 "nbformat": 4,
 "nbformat_minor": 5
}
